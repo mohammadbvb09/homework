{
 "cells": [
  {
   "cell_type": "code",
   "execution_count": 2,
   "id": "283ec80b-8096-4240-bd26-adac6474ba18",
   "metadata": {
    "tags": []
   },
   "outputs": [],
   "source": [
    "import pandas as pd"
   ]
  },
  {
   "cell_type": "code",
   "execution_count": 3,
   "id": "662cff36-da77-4eec-a81f-21af9c90e7b6",
   "metadata": {
    "tags": []
   },
   "outputs": [
    {
     "data": {
      "text/html": [
       "<div>\n",
       "<style scoped>\n",
       "    .dataframe tbody tr th:only-of-type {\n",
       "        vertical-align: middle;\n",
       "    }\n",
       "\n",
       "    .dataframe tbody tr th {\n",
       "        vertical-align: top;\n",
       "    }\n",
       "\n",
       "    .dataframe thead th {\n",
       "        text-align: right;\n",
       "    }\n",
       "</style>\n",
       "<table border=\"1\" class=\"dataframe\">\n",
       "  <thead>\n",
       "    <tr style=\"text-align: right;\">\n",
       "      <th></th>\n",
       "      <th>year</th>\n",
       "      <th>month</th>\n",
       "      <th>intent</th>\n",
       "      <th>police</th>\n",
       "      <th>sex</th>\n",
       "      <th>age</th>\n",
       "      <th>race</th>\n",
       "      <th>place</th>\n",
       "      <th>education</th>\n",
       "    </tr>\n",
       "  </thead>\n",
       "  <tbody>\n",
       "    <tr>\n",
       "      <th>0</th>\n",
       "      <td>2012</td>\n",
       "      <td>1</td>\n",
       "      <td>Suicide</td>\n",
       "      <td>0</td>\n",
       "      <td>M</td>\n",
       "      <td>34.0</td>\n",
       "      <td>Asian/Pacific Islander</td>\n",
       "      <td>Home</td>\n",
       "      <td>BA+</td>\n",
       "    </tr>\n",
       "    <tr>\n",
       "      <th>1</th>\n",
       "      <td>2012</td>\n",
       "      <td>1</td>\n",
       "      <td>Suicide</td>\n",
       "      <td>0</td>\n",
       "      <td>F</td>\n",
       "      <td>21.0</td>\n",
       "      <td>White</td>\n",
       "      <td>Street</td>\n",
       "      <td>Some college</td>\n",
       "    </tr>\n",
       "    <tr>\n",
       "      <th>2</th>\n",
       "      <td>2012</td>\n",
       "      <td>1</td>\n",
       "      <td>Suicide</td>\n",
       "      <td>0</td>\n",
       "      <td>M</td>\n",
       "      <td>60.0</td>\n",
       "      <td>White</td>\n",
       "      <td>Other specified</td>\n",
       "      <td>BA+</td>\n",
       "    </tr>\n",
       "    <tr>\n",
       "      <th>3</th>\n",
       "      <td>2012</td>\n",
       "      <td>2</td>\n",
       "      <td>Suicide</td>\n",
       "      <td>0</td>\n",
       "      <td>M</td>\n",
       "      <td>64.0</td>\n",
       "      <td>White</td>\n",
       "      <td>Home</td>\n",
       "      <td>BA+</td>\n",
       "    </tr>\n",
       "    <tr>\n",
       "      <th>4</th>\n",
       "      <td>2012</td>\n",
       "      <td>2</td>\n",
       "      <td>Suicide</td>\n",
       "      <td>0</td>\n",
       "      <td>M</td>\n",
       "      <td>31.0</td>\n",
       "      <td>White</td>\n",
       "      <td>Other specified</td>\n",
       "      <td>HS/GED</td>\n",
       "    </tr>\n",
       "  </tbody>\n",
       "</table>\n",
       "</div>"
      ],
      "text/plain": [
       "   year  month   intent  police sex   age                    race  \\\n",
       "0  2012      1  Suicide       0   M  34.0  Asian/Pacific Islander   \n",
       "1  2012      1  Suicide       0   F  21.0                   White   \n",
       "2  2012      1  Suicide       0   M  60.0                   White   \n",
       "3  2012      2  Suicide       0   M  64.0                   White   \n",
       "4  2012      2  Suicide       0   M  31.0                   White   \n",
       "\n",
       "             place     education  \n",
       "0             Home           BA+  \n",
       "1           Street  Some college  \n",
       "2  Other specified           BA+  \n",
       "3             Home           BA+  \n",
       "4  Other specified        HS/GED  "
      ]
     },
     "execution_count": 3,
     "metadata": {},
     "output_type": "execute_result"
    }
   ],
   "source": [
    "df = pd.read_csv('./gun_deaths.csv')\n",
    "df.head()"
   ]
  },
  {
   "cell_type": "code",
   "execution_count": 33,
   "id": "14e1142e-82c8-4f4e-8347-5d1cce738b81",
   "metadata": {
    "tags": []
   },
   "outputs": [
    {
     "name": "stdout",
     "output_type": "stream",
     "text": [
      "0.0\n",
      "107.0\n",
      "43.85760071442746\n",
      "42.0\n"
     ]
    }
   ],
   "source": [
    "print(df.loc[df['age'].notnull()]['age'].min())\n",
    "print(df.loc[df['age'].notnull()]['age'].max())\n",
    "print(df.loc[df['age'].notnull()]['age'].mean())\n",
    "print(df.loc[df['age'].notnull()]['age'].median())\n",
    "# df['LABEL'].unique()"
   ]
  },
  {
   "cell_type": "code",
   "execution_count": 111,
   "id": "ac8ad3d5-6586-4cea-8f9f-efa68dc4b815",
   "metadata": {
    "tags": []
   },
   "outputs": [
    {
     "data": {
      "text/plain": [
       "police\n",
       "0    99396\n",
       "1     1402\n",
       "Name: count, dtype: int64"
      ]
     },
     "execution_count": 111,
     "metadata": {},
     "output_type": "execute_result"
    }
   ],
   "source": [
    "df['police'].value_counts()"
   ]
  },
  {
   "cell_type": "code",
   "execution_count": 44,
   "id": "c5bd5d27-a65f-45a8-9247-1d582cdd3b7e",
   "metadata": {
    "tags": []
   },
   "outputs": [
    {
     "data": {
      "text/plain": [
       "1422"
      ]
     },
     "execution_count": 44,
     "metadata": {},
     "output_type": "execute_result"
    }
   ],
   "source": [
    "df['police'].isna().sum()"
   ]
  },
  {
   "cell_type": "code",
   "execution_count": 45,
   "id": "c0563ab3-ac17-486f-9256-1df8c1fb6a4c",
   "metadata": {
    "tags": []
   },
   "outputs": [
    {
     "data": {
      "text/plain": [
       "99376"
      ]
     },
     "execution_count": 45,
     "metadata": {},
     "output_type": "execute_result"
    }
   ],
   "source": [
    "df['police'].count()"
   ]
  },
  {
   "cell_type": "code",
   "execution_count": 34,
   "id": "ade8b33d-bb53-4171-952c-9fca7d89c4e1",
   "metadata": {
    "collapsed": true,
    "jupyter": {
     "outputs_hidden": true
    },
    "tags": []
   },
   "outputs": [
    {
     "data": {
      "text/plain": [
       "[1625,\n",
       " 6578,\n",
       " 7210,\n",
       " 7979,\n",
       " 9492,\n",
       " 11558,\n",
       " 15559,\n",
       " 25131,\n",
       " 29364,\n",
       " 29392,\n",
       " 29600,\n",
       " 35018,\n",
       " 35647,\n",
       " 39663,\n",
       " 40030,\n",
       " 44395,\n",
       " 45090,\n",
       " 47878,\n",
       " 48723,\n",
       " 57239,\n",
       " 59331,\n",
       " 60233,\n",
       " 60441,\n",
       " 60785,\n",
       " 62057,\n",
       " 64173,\n",
       " 68615,\n",
       " 69258,\n",
       " 75204,\n",
       " 76460,\n",
       " 79692,\n",
       " 92416,\n",
       " 94821]"
      ]
     },
     "execution_count": 34,
     "metadata": {},
     "output_type": "execute_result"
    }
   ],
   "source": [
    "df.index[df['age'] == 0].tolist()"
   ]
  },
  {
   "cell_type": "code",
   "execution_count": 46,
   "id": "7ea6a897-0076-4e50-a21a-cfafd3d94352",
   "metadata": {
    "tags": []
   },
   "outputs": [],
   "source": [
    "pd.set_option('display.max_rows', 20)\n",
    "# pd.reset_option('display.max_rows')"
   ]
  },
  {
   "cell_type": "code",
   "execution_count": 54,
   "id": "41b8f572-23c5-4f7d-9ffa-a0882261a2f4",
   "metadata": {
    "collapsed": true,
    "jupyter": {
     "outputs_hidden": true
    },
    "tags": []
   },
   "outputs": [
    {
     "data": {
      "text/html": [
       "<div>\n",
       "<style scoped>\n",
       "    .dataframe tbody tr th:only-of-type {\n",
       "        vertical-align: middle;\n",
       "    }\n",
       "\n",
       "    .dataframe tbody tr th {\n",
       "        vertical-align: top;\n",
       "    }\n",
       "\n",
       "    .dataframe thead th {\n",
       "        text-align: right;\n",
       "    }\n",
       "</style>\n",
       "<table border=\"1\" class=\"dataframe\">\n",
       "  <thead>\n",
       "    <tr style=\"text-align: right;\">\n",
       "      <th></th>\n",
       "      <th>year</th>\n",
       "      <th>month</th>\n",
       "      <th>intent</th>\n",
       "      <th>police</th>\n",
       "      <th>sex</th>\n",
       "      <th>age</th>\n",
       "      <th>race</th>\n",
       "      <th>place</th>\n",
       "      <th>education</th>\n",
       "    </tr>\n",
       "  </thead>\n",
       "  <tbody>\n",
       "    <tr>\n",
       "      <th>0</th>\n",
       "      <td>2012</td>\n",
       "      <td>1</td>\n",
       "      <td>Suicide</td>\n",
       "      <td>0</td>\n",
       "      <td>M</td>\n",
       "      <td>34.0</td>\n",
       "      <td>Asian/Pacific Islander</td>\n",
       "      <td>Home</td>\n",
       "      <td>BA+</td>\n",
       "    </tr>\n",
       "    <tr>\n",
       "      <th>1</th>\n",
       "      <td>2012</td>\n",
       "      <td>1</td>\n",
       "      <td>Suicide</td>\n",
       "      <td>0</td>\n",
       "      <td>F</td>\n",
       "      <td>21.0</td>\n",
       "      <td>White</td>\n",
       "      <td>Street</td>\n",
       "      <td>Some college</td>\n",
       "    </tr>\n",
       "    <tr>\n",
       "      <th>2</th>\n",
       "      <td>2012</td>\n",
       "      <td>1</td>\n",
       "      <td>Suicide</td>\n",
       "      <td>0</td>\n",
       "      <td>M</td>\n",
       "      <td>60.0</td>\n",
       "      <td>White</td>\n",
       "      <td>Other specified</td>\n",
       "      <td>BA+</td>\n",
       "    </tr>\n",
       "    <tr>\n",
       "      <th>3</th>\n",
       "      <td>2012</td>\n",
       "      <td>2</td>\n",
       "      <td>Suicide</td>\n",
       "      <td>0</td>\n",
       "      <td>M</td>\n",
       "      <td>64.0</td>\n",
       "      <td>White</td>\n",
       "      <td>Home</td>\n",
       "      <td>BA+</td>\n",
       "    </tr>\n",
       "    <tr>\n",
       "      <th>4</th>\n",
       "      <td>2012</td>\n",
       "      <td>2</td>\n",
       "      <td>Suicide</td>\n",
       "      <td>0</td>\n",
       "      <td>M</td>\n",
       "      <td>31.0</td>\n",
       "      <td>White</td>\n",
       "      <td>Other specified</td>\n",
       "      <td>HS/GED</td>\n",
       "    </tr>\n",
       "    <tr>\n",
       "      <th>5</th>\n",
       "      <td>2012</td>\n",
       "      <td>2</td>\n",
       "      <td>Suicide</td>\n",
       "      <td>0</td>\n",
       "      <td>M</td>\n",
       "      <td>17.0</td>\n",
       "      <td>Native American/Native Alaskan</td>\n",
       "      <td>Home</td>\n",
       "      <td>Less than HS</td>\n",
       "    </tr>\n",
       "    <tr>\n",
       "      <th>6</th>\n",
       "      <td>2012</td>\n",
       "      <td>2</td>\n",
       "      <td>Undetermined</td>\n",
       "      <td>0</td>\n",
       "      <td>M</td>\n",
       "      <td>48.0</td>\n",
       "      <td>White</td>\n",
       "      <td>Home</td>\n",
       "      <td>HS/GED</td>\n",
       "    </tr>\n",
       "    <tr>\n",
       "      <th>7</th>\n",
       "      <td>2012</td>\n",
       "      <td>3</td>\n",
       "      <td>Suicide</td>\n",
       "      <td>0</td>\n",
       "      <td>M</td>\n",
       "      <td>41.0</td>\n",
       "      <td>Native American/Native Alaskan</td>\n",
       "      <td>Home</td>\n",
       "      <td>HS/GED</td>\n",
       "    </tr>\n",
       "    <tr>\n",
       "      <th>8</th>\n",
       "      <td>2012</td>\n",
       "      <td>2</td>\n",
       "      <td>Accidental</td>\n",
       "      <td>0</td>\n",
       "      <td>M</td>\n",
       "      <td>50.0</td>\n",
       "      <td>White</td>\n",
       "      <td>Other specified</td>\n",
       "      <td>Some college</td>\n",
       "    </tr>\n",
       "    <tr>\n",
       "      <th>9</th>\n",
       "      <td>2012</td>\n",
       "      <td>2</td>\n",
       "      <td>Suicide</td>\n",
       "      <td>0</td>\n",
       "      <td>M</td>\n",
       "      <td>NaN</td>\n",
       "      <td>Black</td>\n",
       "      <td>Home</td>\n",
       "      <td>NaN</td>\n",
       "    </tr>\n",
       "    <tr>\n",
       "      <th>10</th>\n",
       "      <td>2012</td>\n",
       "      <td>2</td>\n",
       "      <td>Suicide</td>\n",
       "      <td>0</td>\n",
       "      <td>M</td>\n",
       "      <td>30.0</td>\n",
       "      <td>White</td>\n",
       "      <td>Home</td>\n",
       "      <td>Some college</td>\n",
       "    </tr>\n",
       "    <tr>\n",
       "      <th>11</th>\n",
       "      <td>2012</td>\n",
       "      <td>1</td>\n",
       "      <td>Suicide</td>\n",
       "      <td>0</td>\n",
       "      <td>M</td>\n",
       "      <td>21.0</td>\n",
       "      <td>Native American/Native Alaskan</td>\n",
       "      <td>Home</td>\n",
       "      <td>HS/GED</td>\n",
       "    </tr>\n",
       "    <tr>\n",
       "      <th>12</th>\n",
       "      <td>2012</td>\n",
       "      <td>3</td>\n",
       "      <td>Suicide</td>\n",
       "      <td>0</td>\n",
       "      <td>M</td>\n",
       "      <td>43.0</td>\n",
       "      <td>White</td>\n",
       "      <td>Home</td>\n",
       "      <td>Less than HS</td>\n",
       "    </tr>\n",
       "    <tr>\n",
       "      <th>13</th>\n",
       "      <td>2012</td>\n",
       "      <td>3</td>\n",
       "      <td>Suicide</td>\n",
       "      <td>0</td>\n",
       "      <td>M</td>\n",
       "      <td>34.0</td>\n",
       "      <td>Native American/Native Alaskan</td>\n",
       "      <td>Home</td>\n",
       "      <td>HS/GED</td>\n",
       "    </tr>\n",
       "    <tr>\n",
       "      <th>14</th>\n",
       "      <td>2012</td>\n",
       "      <td>3</td>\n",
       "      <td>Homicide</td>\n",
       "      <td>0</td>\n",
       "      <td>M</td>\n",
       "      <td>27.0</td>\n",
       "      <td>White</td>\n",
       "      <td>Home</td>\n",
       "      <td>HS/GED</td>\n",
       "    </tr>\n",
       "    <tr>\n",
       "      <th>15</th>\n",
       "      <td>2012</td>\n",
       "      <td>3</td>\n",
       "      <td>Suicide</td>\n",
       "      <td>0</td>\n",
       "      <td>M</td>\n",
       "      <td>27.0</td>\n",
       "      <td>Native American/Native Alaskan</td>\n",
       "      <td>Home</td>\n",
       "      <td>HS/GED</td>\n",
       "    </tr>\n",
       "    <tr>\n",
       "      <th>16</th>\n",
       "      <td>2012</td>\n",
       "      <td>3</td>\n",
       "      <td>Suicide</td>\n",
       "      <td>0</td>\n",
       "      <td>M</td>\n",
       "      <td>55.0</td>\n",
       "      <td>White</td>\n",
       "      <td>Home</td>\n",
       "      <td>BA+</td>\n",
       "    </tr>\n",
       "    <tr>\n",
       "      <th>17</th>\n",
       "      <td>2012</td>\n",
       "      <td>3</td>\n",
       "      <td>Suicide</td>\n",
       "      <td>0</td>\n",
       "      <td>M</td>\n",
       "      <td>53.0</td>\n",
       "      <td>Native American/Native Alaskan</td>\n",
       "      <td>Home</td>\n",
       "      <td>HS/GED</td>\n",
       "    </tr>\n",
       "    <tr>\n",
       "      <th>18</th>\n",
       "      <td>2012</td>\n",
       "      <td>3</td>\n",
       "      <td>Homicide</td>\n",
       "      <td>0</td>\n",
       "      <td>M</td>\n",
       "      <td>31.0</td>\n",
       "      <td>Asian/Pacific Islander</td>\n",
       "      <td>Home</td>\n",
       "      <td>Some college</td>\n",
       "    </tr>\n",
       "    <tr>\n",
       "      <th>19</th>\n",
       "      <td>2012</td>\n",
       "      <td>4</td>\n",
       "      <td>Suicide</td>\n",
       "      <td>0</td>\n",
       "      <td>M</td>\n",
       "      <td>51.0</td>\n",
       "      <td>White</td>\n",
       "      <td>Home</td>\n",
       "      <td>HS/GED</td>\n",
       "    </tr>\n",
       "  </tbody>\n",
       "</table>\n",
       "</div>"
      ],
      "text/plain": [
       "    year  month        intent  police sex   age  \\\n",
       "0   2012      1       Suicide       0   M  34.0   \n",
       "1   2012      1       Suicide       0   F  21.0   \n",
       "2   2012      1       Suicide       0   M  60.0   \n",
       "3   2012      2       Suicide       0   M  64.0   \n",
       "4   2012      2       Suicide       0   M  31.0   \n",
       "5   2012      2       Suicide       0   M  17.0   \n",
       "6   2012      2  Undetermined       0   M  48.0   \n",
       "7   2012      3       Suicide       0   M  41.0   \n",
       "8   2012      2    Accidental       0   M  50.0   \n",
       "9   2012      2       Suicide       0   M   NaN   \n",
       "10  2012      2       Suicide       0   M  30.0   \n",
       "11  2012      1       Suicide       0   M  21.0   \n",
       "12  2012      3       Suicide       0   M  43.0   \n",
       "13  2012      3       Suicide       0   M  34.0   \n",
       "14  2012      3      Homicide       0   M  27.0   \n",
       "15  2012      3       Suicide       0   M  27.0   \n",
       "16  2012      3       Suicide       0   M  55.0   \n",
       "17  2012      3       Suicide       0   M  53.0   \n",
       "18  2012      3      Homicide       0   M  31.0   \n",
       "19  2012      4       Suicide       0   M  51.0   \n",
       "\n",
       "                              race            place     education  \n",
       "0           Asian/Pacific Islander             Home           BA+  \n",
       "1                            White           Street  Some college  \n",
       "2                            White  Other specified           BA+  \n",
       "3                            White             Home           BA+  \n",
       "4                            White  Other specified        HS/GED  \n",
       "5   Native American/Native Alaskan             Home  Less than HS  \n",
       "6                            White             Home        HS/GED  \n",
       "7   Native American/Native Alaskan             Home        HS/GED  \n",
       "8                            White  Other specified  Some college  \n",
       "9                            Black             Home           NaN  \n",
       "10                           White             Home  Some college  \n",
       "11  Native American/Native Alaskan             Home        HS/GED  \n",
       "12                           White             Home  Less than HS  \n",
       "13  Native American/Native Alaskan             Home        HS/GED  \n",
       "14                           White             Home        HS/GED  \n",
       "15  Native American/Native Alaskan             Home        HS/GED  \n",
       "16                           White             Home           BA+  \n",
       "17  Native American/Native Alaskan             Home        HS/GED  \n",
       "18          Asian/Pacific Islander             Home  Some college  \n",
       "19                           White             Home        HS/GED  "
      ]
     },
     "metadata": {},
     "output_type": "display_data"
    }
   ],
   "source": [
    "from IPython.display import display, HTML\n",
    "\n",
    "# Assuming that dataframes df1 and df2 are already defined:\n",
    "display(df[:20])"
   ]
  },
  {
   "cell_type": "code",
   "execution_count": 68,
   "id": "75d876a7-dc30-4ce6-bf2e-1e5fda039a25",
   "metadata": {
    "tags": []
   },
   "outputs": [
    {
     "data": {
      "text/plain": [
       "[42927, 21823, 21680, 12946]"
      ]
     },
     "execution_count": 68,
     "metadata": {},
     "output_type": "execute_result"
    }
   ],
   "source": [
    "df['education'].value_counts().tolist()"
   ]
  },
  {
   "cell_type": "code",
   "execution_count": 70,
   "id": "820e78a4-4f66-4bea-92bb-0c8b82c3fe45",
   "metadata": {
    "tags": []
   },
   "outputs": [],
   "source": [
    "import numpy as np  \n",
    "import matplotlib.pyplot as plt "
   ]
  },
  {
   "cell_type": "code",
   "execution_count": 105,
   "id": "516f9292-321c-4f72-b449-f8ed8461ed8c",
   "metadata": {
    "tags": []
   },
   "outputs": [
    {
     "data": {
      "image/png": "[encoded data removed]",
      "text/plain": [
       "<Figure size 640x480 with 1 Axes>"
      ]
     },
     "metadata": {},
     "output_type": "display_data"
    }
   ],
   "source": [
    "colors = ['darkorange', 'brown', 'tomato', 'green', 'blue', 'violet', 'purple', 'gold', 'indigo', 'lime', 'tan', 'yellow']\n",
    "\n",
    "###################   year   ######################\n",
    "names = ['2012', '2013', '2014']\n",
    "counts = [df.loc[df['year'] == 2012]['year'].count(),\n",
    "         df.loc[df['year'] == 2013]['year'].count(),\n",
    "         df.loc[df['year'] == 2014]['year'].count()]\n",
    "\n",
    "plt.bar(names, height=counts, width=0.4, align='center', color=colors) \n",
    "  \n",
    "plt.xticks(np.arange(len(names)), names) \n",
    "# plt.xlabel(\"Groups\") \n",
    "# plt.ylabel(\"Number of Students\") \n",
    "plt.title(\"Year\") \n",
    "# plt.legend() \n",
    "plt.savefig('Year.svg')\n",
    "plt.show() "
   ]
  },
  {
   "cell_type": "code",
   "execution_count": 107,
   "id": "88f49a7c-323b-4c3f-ab3e-e80e289145e7",
   "metadata": {
    "tags": []
   },
   "outputs": [
    {
     "data": {
      "image/png": "[encoded data removed]",
      "text/plain": [
       "<Figure size 640x480 with 1 Axes>"
      ]
     },
     "metadata": {},
     "output_type": "display_data"
    }
   ],
   "source": [
    "colors = ['darkorange', 'brown', 'tomato', 'green', 'blue', 'violet', 'purple', 'gold', 'indigo', 'lime', 'tan', 'yellow']\n",
    "\n",
    "###################   month   ######################\n",
    "names = ['1', '2', '3', '4', '5', '6', '7', '8', '9', '10', '11', '12']\n",
    "counts = [df.loc[df['month'] == 1]['month'].count(),\n",
    "         df.loc[df['month'] == 2]['month'].count(),\n",
    "         df.loc[df['month'] == 3]['month'].count(),\n",
    "         df.loc[df['month'] == 4]['month'].count(),\n",
    "         df.loc[df['month'] == 5]['month'].count(),\n",
    "         df.loc[df['month'] == 6]['month'].count(),\n",
    "         df.loc[df['month'] == 7]['month'].count(),\n",
    "         df.loc[df['month'] == 8]['month'].count(),\n",
    "         df.loc[df['month'] == 9]['month'].count(),\n",
    "         df.loc[df['month'] == 10]['month'].count(),\n",
    "         df.loc[df['month'] == 11]['month'].count(),\n",
    "         df.loc[df['month'] == 12]['month'].count()]\n",
    "\n",
    "plt.bar(names, height=counts, width=0.4, align='center', color=colors) \n",
    "  \n",
    "plt.xticks(np.arange(len(names)), names) \n",
    "# plt.xlabel(\"Groups\") \n",
    "# plt.ylabel(\"Number of Students\") \n",
    "plt.title(\"Month\") \n",
    "# plt.legend() \n",
    "plt.savefig('Month.svg')\n",
    "plt.show() "
   ]
  },
  {
   "cell_type": "code",
   "execution_count": 110,
   "id": "7c19ed4c-0e86-4f8d-8669-bf086d748606",
   "metadata": {
    "tags": []
   },
   "outputs": [
    {
     "data": {
      "image/png": "[encoded data removed]",
      "text/plain": [
       "<Figure size 640x480 with 1 Axes>"
      ]
     },
     "metadata": {},
     "output_type": "display_data"
    }
   ],
   "source": [
    "colors = ['darkorange', 'brown', 'tomato', 'green', 'blue', 'violet', 'purple', 'gold', 'indigo', 'lime', 'tan', 'yellow']\n",
    "\n",
    "###################   month   ######################\n",
    "names = ['Suicide', 'Homicide', 'Accidental', 'Undetermined']\n",
    "\n",
    "counts = [df.loc[df['intent'] == 'Suicide']['intent'].count(),\n",
    "         df.loc[df['intent'] == 'Homicide']['intent'].count(),\n",
    "         df.loc[df['intent'] == 'Accidental']['intent'].count(),\n",
    "         df.loc[df['intent'] == 'Undetermined']['intent'].count()]\n",
    "\n",
    "plt.bar(names, height=counts, width=0.4, align='center', color=colors) \n",
    "  \n",
    "plt.xticks(np.arange(len(names)), names) \n",
    "# plt.xlabel(\"Groups\") \n",
    "# plt.ylabel(\"Number of Students\") \n",
    "plt.title(\"Intent\") \n",
    "# plt.legend() \n",
    "plt.savefig('Intent.svg')\n",
    "plt.show() "
   ]
  },
  {
   "cell_type": "code",
   "execution_count": 112,
   "id": "01e0fd55-5875-4a11-b696-3b8e576d33a0",
   "metadata": {
    "tags": []
   },
   "outputs": [
    {
     "data": {
      "image/png": "[encoded data removed]",
      "text/plain": [
       "<Figure size 640x480 with 1 Axes>"
      ]
     },
     "metadata": {},
     "output_type": "display_data"
    }
   ],
   "source": [
    "colors = ['darkorange', 'brown', 'tomato', 'green', 'blue', 'violet', 'purple', 'gold', 'indigo', 'lime', 'tan', 'yellow']\n",
    "\n",
    "###################   month   ######################\n",
    "names = [0, 1]\n",
    "\n",
    "counts = [df.loc[df['police'] == 0]['police'].count(),\n",
    "         df.loc[df['police'] == 1]['police'].count()]\n",
    "\n",
    "plt.bar(names, height=counts, width=0.4, align='center', color=colors) \n",
    "  \n",
    "plt.xticks(np.arange(len(names)), names) \n",
    "# plt.xlabel(\"Groups\") \n",
    "# plt.ylabel(\"Number of Students\") \n",
    "plt.title(\"Police\") \n",
    "# plt.legend() \n",
    "plt.savefig('Police.svg')\n",
    "plt.show() "
   ]
  },
  {
   "cell_type": "code",
   "execution_count": 106,
   "id": "28a2489c-b27b-4b82-86ad-4400b94e3a59",
   "metadata": {
    "tags": []
   },
   "outputs": [
    {
     "data": {
      "image/png": "[encoded data removed]",
      "text/plain": [
       "<Figure size 640x480 with 1 Axes>"
      ]
     },
     "metadata": {},
     "output_type": "display_data"
    }
   ],
   "source": [
    "colors = ['darkorange', 'brown', 'tomato', 'green', 'blue', 'violet', 'purple', 'gold', 'indigo', 'lime', 'tan', 'yellow']\n",
    "\n",
    "###################   sex   ######################\n",
    "names = ['Male', 'Female']\n",
    "counts = [df.loc[df['sex'] == 'M']['sex'].count(),\n",
    "         df.loc[df['sex'] == 'F']['sex'].count()]\n",
    "\n",
    "plt.bar(names, height=counts, width=0.4, align='center', color=colors) \n",
    "  \n",
    "plt.xticks(np.arange(len(names)), names) \n",
    "# plt.xlabel(\"Groups\") \n",
    "# plt.ylabel(\"Number of Students\") \n",
    "plt.title(\"Sex\") \n",
    "# plt.legend() \n",
    "plt.savefig('sex.svg')\n",
    "plt.show() "
   ]
  },
  {
   "cell_type": "code",
   "execution_count": 118,
   "id": "1d4d03ce-03a0-4a72-a870-1abe3f5892ad",
   "metadata": {
    "tags": []
   },
   "outputs": [
    {
     "data": {
      "text/plain": [
       "<Axes: ylabel='Frequency'>"
      ]
     },
     "execution_count": 118,
     "metadata": {},
     "output_type": "execute_result"
    },
    {
     "data": {
      "image/png": "[encoded data removed]",
      "text/plain": [
       "<Figure size 640x480 with 1 Axes>"
      ]
     },
     "metadata": {},
     "output_type": "display_data"
    }
   ],
   "source": [
    "df.plot.hist(column=[\"age\"], bins=12, alpha=1)"
   ]
  },
  {
   "cell_type": "code",
   "execution_count": 122,
   "id": "afa65127-ed0c-4731-9546-306bad9f9ada",
   "metadata": {
    "tags": []
   },
   "outputs": [
    {
     "data": {
      "image/png": "[encoded data removed]",
      "text/plain": [
       "<Figure size 640x480 with 1 Axes>"
      ]
     },
     "metadata": {},
     "output_type": "display_data"
    }
   ],
   "source": [
    "colors = ['darkorange', 'brown', 'tomato', 'green', 'blue', 'violet', 'purple', 'gold', 'indigo', 'lime', 'tan', 'yellow']\n",
    "\n",
    "###################   race   ######################\n",
    "names = ['White', 'Black', 'Hispanic', 'Asian/PI', 'American/Alaskan']\n",
    "counts = [df.loc[df['race'] == 'White']['race'].count(),\n",
    "         df.loc[df['race'] == 'Black']['race'].count(),\n",
    "         df.loc[df['race'] == 'Hispanic']['race'].count(),\n",
    "         df.loc[df['race'] == 'Asian/Pacific Islander']['race'].count(),\n",
    "         df.loc[df['race'] == 'Native American/Native Alaskan']['race'].count()]\n",
    "\n",
    "plt.bar(names, height=counts, width=0.4, align='center', color=colors) \n",
    "  \n",
    "plt.xticks(np.arange(len(names)), names) \n",
    "# plt.xlabel(\"Groups\") \n",
    "# plt.ylabel(\"Number of Students\") \n",
    "plt.title(\"Race\") \n",
    "# plt.legend() \n",
    "plt.savefig('Race.svg')\n",
    "plt.show() "
   ]
  },
  {
   "cell_type": "code",
   "execution_count": 124,
   "id": "9131fb55-56ad-470c-8561-4ba1b0c3dc92",
   "metadata": {
    "tags": []
   },
   "outputs": [
    {
     "data": {
      "image/png": "[encoded data removed]",
      "text/plain": [
       "<Figure size 640x480 with 1 Axes>"
      ]
     },
     "metadata": {},
     "output_type": "display_data"
    }
   ],
   "source": [
    "colors = ['darkorange', 'brown', 'tomato', 'green', 'blue', 'violet', 'purple', 'gold', 'indigo', 'lime', 'tan', 'yellow']\n",
    "\n",
    "###################   place   ######################\n",
    "names = ['Home', 'Street', 'Trade', 'School', 'Farm', 'Industrial', 'Residential', 'Sports']\n",
    "counts = [df.loc[df['place'] == 'Home']['place'].count(),\n",
    "         df.loc[df['place'] == 'Street']['place'].count(),\n",
    "         df.loc[df['place'] == 'Trade/service area']['place'].count(),\n",
    "         df.loc[df['place'] == 'School/instiution']['place'].count(),\n",
    "         df.loc[df['place'] == 'Farm']['place'].count(),\n",
    "         df.loc[df['place'] == 'Industrial/construction']['place'].count(),\n",
    "         df.loc[df['place'] == 'Residential institution']['place'].count(),\n",
    "         df.loc[df['place'] == 'Sports']['place'].count()]\n",
    "\n",
    "plt.bar(names, height=counts, width=0.4, align='center', color=colors) \n",
    "  \n",
    "plt.xticks(np.arange(len(names)), names) \n",
    "# plt.xlabel(\"Groups\") \n",
    "# plt.ylabel(\"Number of Students\") \n",
    "plt.title(\"Place\") \n",
    "# plt.legend() \n",
    "plt.savefig('Place.svg')\n",
    "plt.show() "
   ]
  },
  {
   "cell_type": "code",
   "execution_count": 126,
   "id": "2c6ab0df-4bc0-4b1a-a553-b1285e4180e5",
   "metadata": {
    "tags": []
   },
   "outputs": [
    {
     "data": {
      "image/png": "[encoded data removed]",
      "text/plain": [
       "<Figure size 640x480 with 1 Axes>"
      ]
     },
     "metadata": {},
     "output_type": "display_data"
    }
   ],
   "source": [
    "colors = ['darkorange', 'brown', 'tomato', 'green', 'blue', 'violet', 'purple', 'gold', 'indigo', 'lime', 'tan', 'yellow']\n",
    "\n",
    "###################   education   ######################\n",
    "names = ['BA+', 'Some college', 'HS/GED', 'Less than HS']\n",
    "counts = [df.loc[df['education'] == 'BA+']['education'].count(),\n",
    "         df.loc[df['education'] == 'Some college']['education'].count(),\n",
    "         df.loc[df['education'] == 'HS/GED']['education'].count(),\n",
    "         df.loc[df['education'] == 'Less than HS']['education'].count()]\n",
    "\n",
    "plt.bar(names, height=counts, width=0.4, align='center', color=colors) \n",
    "  \n",
    "plt.xticks(np.arange(len(names)), names) \n",
    "# plt.xlabel(\"Groups\") \n",
    "# plt.ylabel(\"Number of Students\") \n",
    "plt.title(\"Education\") \n",
    "# plt.legend() \n",
    "plt.savefig('Education.svg')\n",
    "plt.show() "
   ]
  },
  {
   "cell_type": "code",
   "execution_count": 4,
   "id": "807a9ef0-9112-439e-9c1c-38d1291ae16b",
   "metadata": {
    "collapsed": true,
    "jupyter": {
     "outputs_hidden": true
    },
    "tags": []
   },
   "outputs": [
    {
     "data": {
      "text/html": [
       "<style type=\"text/css\">\n",
       "#T_343d3_row0_col0, #T_343d3_row0_col1, #T_343d3_row0_col3, #T_343d3_row1_col0, #T_343d3_row1_col1, #T_343d3_row1_col3, #T_343d3_row2_col0, #T_343d3_row2_col1, #T_343d3_row2_col3, #T_343d3_row3_col0, #T_343d3_row3_col3, #T_343d3_row4_col0, #T_343d3_row4_col3, #T_343d3_row5_col0, #T_343d3_row5_col3, #T_343d3_row5_col5, #T_343d3_row6_col0, #T_343d3_row6_col3, #T_343d3_row7_col0, #T_343d3_row7_col3, #T_343d3_row8_col0, #T_343d3_row8_col3, #T_343d3_row9_col0, #T_343d3_row9_col3, #T_343d3_row10_col0, #T_343d3_row10_col3 {\n",
       "  background-color: #f7fbff;\n",
       "  color: #000000;\n",
       "}\n",
       "#T_343d3_row0_col5 {\n",
       "  background-color: #a3cce3;\n",
       "  color: #000000;\n",
       "}\n",
       "#T_343d3_row1_col5 {\n",
       "  background-color: #e7f0fa;\n",
       "  color: #000000;\n",
       "}\n",
       "#T_343d3_row2_col5 {\n",
       "  background-color: #08468b;\n",
       "  color: #f1f1f1;\n",
       "}\n",
       "#T_343d3_row3_col1, #T_343d3_row4_col1, #T_343d3_row5_col1, #T_343d3_row6_col1, #T_343d3_row8_col1, #T_343d3_row9_col1, #T_343d3_row10_col1 {\n",
       "  background-color: #6aaed6;\n",
       "  color: #f1f1f1;\n",
       "}\n",
       "#T_343d3_row3_col5, #T_343d3_row7_col1 {\n",
       "  background-color: #08306b;\n",
       "  color: #f1f1f1;\n",
       "}\n",
       "#T_343d3_row4_col5 {\n",
       "  background-color: #b7d4ea;\n",
       "  color: #000000;\n",
       "}\n",
       "#T_343d3_row6_col5 {\n",
       "  background-color: #3989c1;\n",
       "  color: #f1f1f1;\n",
       "}\n",
       "#T_343d3_row7_col5 {\n",
       "  background-color: #68acd5;\n",
       "  color: #f1f1f1;\n",
       "}\n",
       "#T_343d3_row8_col5 {\n",
       "  background-color: #2e7ebc;\n",
       "  color: #f1f1f1;\n",
       "}\n",
       "#T_343d3_row9_col5 {\n",
       "  background-color: #000000;\n",
       "  color: #f1f1f1;\n",
       "}\n",
       "#T_343d3_row10_col5 {\n",
       "  background-color: #bed8ec;\n",
       "  color: #000000;\n",
       "}\n",
       "</style>\n",
       "<table id=\"T_343d3\">\n",
       "  <thead>\n",
       "    <tr>\n",
       "      <th class=\"blank level0\" >&nbsp;</th>\n",
       "      <th id=\"T_343d3_level0_col0\" class=\"col_heading level0 col0\" >year</th>\n",
       "      <th id=\"T_343d3_level0_col1\" class=\"col_heading level0 col1\" >month</th>\n",
       "      <th id=\"T_343d3_level0_col2\" class=\"col_heading level0 col2\" >intent</th>\n",
       "      <th id=\"T_343d3_level0_col3\" class=\"col_heading level0 col3\" >police</th>\n",
       "      <th id=\"T_343d3_level0_col4\" class=\"col_heading level0 col4\" >sex</th>\n",
       "      <th id=\"T_343d3_level0_col5\" class=\"col_heading level0 col5\" >age</th>\n",
       "      <th id=\"T_343d3_level0_col6\" class=\"col_heading level0 col6\" >race</th>\n",
       "      <th id=\"T_343d3_level0_col7\" class=\"col_heading level0 col7\" >place</th>\n",
       "      <th id=\"T_343d3_level0_col8\" class=\"col_heading level0 col8\" >education</th>\n",
       "    </tr>\n",
       "  </thead>\n",
       "  <tbody>\n",
       "    <tr>\n",
       "      <th id=\"T_343d3_level0_row0\" class=\"row_heading level0 row0\" >0</th>\n",
       "      <td id=\"T_343d3_row0_col0\" class=\"data row0 col0\" >2012</td>\n",
       "      <td id=\"T_343d3_row0_col1\" class=\"data row0 col1\" >1</td>\n",
       "      <td id=\"T_343d3_row0_col2\" class=\"data row0 col2\" >Suicide</td>\n",
       "      <td id=\"T_343d3_row0_col3\" class=\"data row0 col3\" >0</td>\n",
       "      <td id=\"T_343d3_row0_col4\" class=\"data row0 col4\" >M</td>\n",
       "      <td id=\"T_343d3_row0_col5\" class=\"data row0 col5\" >34.000000</td>\n",
       "      <td id=\"T_343d3_row0_col6\" class=\"data row0 col6\" >Asian/Pacific Islander</td>\n",
       "      <td id=\"T_343d3_row0_col7\" class=\"data row0 col7\" >Home</td>\n",
       "      <td id=\"T_343d3_row0_col8\" class=\"data row0 col8\" >BA+</td>\n",
       "    </tr>\n",
       "    <tr>\n",
       "      <th id=\"T_343d3_level0_row1\" class=\"row_heading level0 row1\" >1</th>\n",
       "      <td id=\"T_343d3_row1_col0\" class=\"data row1 col0\" >2012</td>\n",
       "      <td id=\"T_343d3_row1_col1\" class=\"data row1 col1\" >1</td>\n",
       "      <td id=\"T_343d3_row1_col2\" class=\"data row1 col2\" >Suicide</td>\n",
       "      <td id=\"T_343d3_row1_col3\" class=\"data row1 col3\" >0</td>\n",
       "      <td id=\"T_343d3_row1_col4\" class=\"data row1 col4\" >F</td>\n",
       "      <td id=\"T_343d3_row1_col5\" class=\"data row1 col5\" >21.000000</td>\n",
       "      <td id=\"T_343d3_row1_col6\" class=\"data row1 col6\" >White</td>\n",
       "      <td id=\"T_343d3_row1_col7\" class=\"data row1 col7\" >Street</td>\n",
       "      <td id=\"T_343d3_row1_col8\" class=\"data row1 col8\" >Some college</td>\n",
       "    </tr>\n",
       "    <tr>\n",
       "      <th id=\"T_343d3_level0_row2\" class=\"row_heading level0 row2\" >2</th>\n",
       "      <td id=\"T_343d3_row2_col0\" class=\"data row2 col0\" >2012</td>\n",
       "      <td id=\"T_343d3_row2_col1\" class=\"data row2 col1\" >1</td>\n",
       "      <td id=\"T_343d3_row2_col2\" class=\"data row2 col2\" >Suicide</td>\n",
       "      <td id=\"T_343d3_row2_col3\" class=\"data row2 col3\" >0</td>\n",
       "      <td id=\"T_343d3_row2_col4\" class=\"data row2 col4\" >M</td>\n",
       "      <td id=\"T_343d3_row2_col5\" class=\"data row2 col5\" >60.000000</td>\n",
       "      <td id=\"T_343d3_row2_col6\" class=\"data row2 col6\" >White</td>\n",
       "      <td id=\"T_343d3_row2_col7\" class=\"data row2 col7\" >Other specified</td>\n",
       "      <td id=\"T_343d3_row2_col8\" class=\"data row2 col8\" >BA+</td>\n",
       "    </tr>\n",
       "    <tr>\n",
       "      <th id=\"T_343d3_level0_row3\" class=\"row_heading level0 row3\" >3</th>\n",
       "      <td id=\"T_343d3_row3_col0\" class=\"data row3 col0\" >2012</td>\n",
       "      <td id=\"T_343d3_row3_col1\" class=\"data row3 col1\" >2</td>\n",
       "      <td id=\"T_343d3_row3_col2\" class=\"data row3 col2\" >Suicide</td>\n",
       "      <td id=\"T_343d3_row3_col3\" class=\"data row3 col3\" >0</td>\n",
       "      <td id=\"T_343d3_row3_col4\" class=\"data row3 col4\" >M</td>\n",
       "      <td id=\"T_343d3_row3_col5\" class=\"data row3 col5\" >64.000000</td>\n",
       "      <td id=\"T_343d3_row3_col6\" class=\"data row3 col6\" >White</td>\n",
       "      <td id=\"T_343d3_row3_col7\" class=\"data row3 col7\" >Home</td>\n",
       "      <td id=\"T_343d3_row3_col8\" class=\"data row3 col8\" >BA+</td>\n",
       "    </tr>\n",
       "    <tr>\n",
       "      <th id=\"T_343d3_level0_row4\" class=\"row_heading level0 row4\" >4</th>\n",
       "      <td id=\"T_343d3_row4_col0\" class=\"data row4 col0\" >2012</td>\n",
       "      <td id=\"T_343d3_row4_col1\" class=\"data row4 col1\" >2</td>\n",
       "      <td id=\"T_343d3_row4_col2\" class=\"data row4 col2\" >Suicide</td>\n",
       "      <td id=\"T_343d3_row4_col3\" class=\"data row4 col3\" >0</td>\n",
       "      <td id=\"T_343d3_row4_col4\" class=\"data row4 col4\" >M</td>\n",
       "      <td id=\"T_343d3_row4_col5\" class=\"data row4 col5\" >31.000000</td>\n",
       "      <td id=\"T_343d3_row4_col6\" class=\"data row4 col6\" >White</td>\n",
       "      <td id=\"T_343d3_row4_col7\" class=\"data row4 col7\" >Other specified</td>\n",
       "      <td id=\"T_343d3_row4_col8\" class=\"data row4 col8\" >HS/GED</td>\n",
       "    </tr>\n",
       "    <tr>\n",
       "      <th id=\"T_343d3_level0_row5\" class=\"row_heading level0 row5\" >5</th>\n",
       "      <td id=\"T_343d3_row5_col0\" class=\"data row5 col0\" >2012</td>\n",
       "      <td id=\"T_343d3_row5_col1\" class=\"data row5 col1\" >2</td>\n",
       "      <td id=\"T_343d3_row5_col2\" class=\"data row5 col2\" >Suicide</td>\n",
       "      <td id=\"T_343d3_row5_col3\" class=\"data row5 col3\" >0</td>\n",
       "      <td id=\"T_343d3_row5_col4\" class=\"data row5 col4\" >M</td>\n",
       "      <td id=\"T_343d3_row5_col5\" class=\"data row5 col5\" >17.000000</td>\n",
       "      <td id=\"T_343d3_row5_col6\" class=\"data row5 col6\" >Native American/Native Alaskan</td>\n",
       "      <td id=\"T_343d3_row5_col7\" class=\"data row5 col7\" >Home</td>\n",
       "      <td id=\"T_343d3_row5_col8\" class=\"data row5 col8\" >Less than HS</td>\n",
       "    </tr>\n",
       "    <tr>\n",
       "      <th id=\"T_343d3_level0_row6\" class=\"row_heading level0 row6\" >6</th>\n",
       "      <td id=\"T_343d3_row6_col0\" class=\"data row6 col0\" >2012</td>\n",
       "      <td id=\"T_343d3_row6_col1\" class=\"data row6 col1\" >2</td>\n",
       "      <td id=\"T_343d3_row6_col2\" class=\"data row6 col2\" >Undetermined</td>\n",
       "      <td id=\"T_343d3_row6_col3\" class=\"data row6 col3\" >0</td>\n",
       "      <td id=\"T_343d3_row6_col4\" class=\"data row6 col4\" >M</td>\n",
       "      <td id=\"T_343d3_row6_col5\" class=\"data row6 col5\" >48.000000</td>\n",
       "      <td id=\"T_343d3_row6_col6\" class=\"data row6 col6\" >White</td>\n",
       "      <td id=\"T_343d3_row6_col7\" class=\"data row6 col7\" >Home</td>\n",
       "      <td id=\"T_343d3_row6_col8\" class=\"data row6 col8\" >HS/GED</td>\n",
       "    </tr>\n",
       "    <tr>\n",
       "      <th id=\"T_343d3_level0_row7\" class=\"row_heading level0 row7\" >7</th>\n",
       "      <td id=\"T_343d3_row7_col0\" class=\"data row7 col0\" >2012</td>\n",
       "      <td id=\"T_343d3_row7_col1\" class=\"data row7 col1\" >3</td>\n",
       "      <td id=\"T_343d3_row7_col2\" class=\"data row7 col2\" >Suicide</td>\n",
       "      <td id=\"T_343d3_row7_col3\" class=\"data row7 col3\" >0</td>\n",
       "      <td id=\"T_343d3_row7_col4\" class=\"data row7 col4\" >M</td>\n",
       "      <td id=\"T_343d3_row7_col5\" class=\"data row7 col5\" >41.000000</td>\n",
       "      <td id=\"T_343d3_row7_col6\" class=\"data row7 col6\" >Native American/Native Alaskan</td>\n",
       "      <td id=\"T_343d3_row7_col7\" class=\"data row7 col7\" >Home</td>\n",
       "      <td id=\"T_343d3_row7_col8\" class=\"data row7 col8\" >HS/GED</td>\n",
       "    </tr>\n",
       "    <tr>\n",
       "      <th id=\"T_343d3_level0_row8\" class=\"row_heading level0 row8\" >8</th>\n",
       "      <td id=\"T_343d3_row8_col0\" class=\"data row8 col0\" >2012</td>\n",
       "      <td id=\"T_343d3_row8_col1\" class=\"data row8 col1\" >2</td>\n",
       "      <td id=\"T_343d3_row8_col2\" class=\"data row8 col2\" >Accidental</td>\n",
       "      <td id=\"T_343d3_row8_col3\" class=\"data row8 col3\" >0</td>\n",
       "      <td id=\"T_343d3_row8_col4\" class=\"data row8 col4\" >M</td>\n",
       "      <td id=\"T_343d3_row8_col5\" class=\"data row8 col5\" >50.000000</td>\n",
       "      <td id=\"T_343d3_row8_col6\" class=\"data row8 col6\" >White</td>\n",
       "      <td id=\"T_343d3_row8_col7\" class=\"data row8 col7\" >Other specified</td>\n",
       "      <td id=\"T_343d3_row8_col8\" class=\"data row8 col8\" >Some college</td>\n",
       "    </tr>\n",
       "    <tr>\n",
       "      <th id=\"T_343d3_level0_row9\" class=\"row_heading level0 row9\" >9</th>\n",
       "      <td id=\"T_343d3_row9_col0\" class=\"data row9 col0\" >2012</td>\n",
       "      <td id=\"T_343d3_row9_col1\" class=\"data row9 col1\" >2</td>\n",
       "      <td id=\"T_343d3_row9_col2\" class=\"data row9 col2\" >Suicide</td>\n",
       "      <td id=\"T_343d3_row9_col3\" class=\"data row9 col3\" >0</td>\n",
       "      <td id=\"T_343d3_row9_col4\" class=\"data row9 col4\" >M</td>\n",
       "      <td id=\"T_343d3_row9_col5\" class=\"data row9 col5\" >nan</td>\n",
       "      <td id=\"T_343d3_row9_col6\" class=\"data row9 col6\" >Black</td>\n",
       "      <td id=\"T_343d3_row9_col7\" class=\"data row9 col7\" >Home</td>\n",
       "      <td id=\"T_343d3_row9_col8\" class=\"data row9 col8\" >nan</td>\n",
       "    </tr>\n",
       "    <tr>\n",
       "      <th id=\"T_343d3_level0_row10\" class=\"row_heading level0 row10\" >10</th>\n",
       "      <td id=\"T_343d3_row10_col0\" class=\"data row10 col0\" >2012</td>\n",
       "      <td id=\"T_343d3_row10_col1\" class=\"data row10 col1\" >2</td>\n",
       "      <td id=\"T_343d3_row10_col2\" class=\"data row10 col2\" >Suicide</td>\n",
       "      <td id=\"T_343d3_row10_col3\" class=\"data row10 col3\" >0</td>\n",
       "      <td id=\"T_343d3_row10_col4\" class=\"data row10 col4\" >M</td>\n",
       "      <td id=\"T_343d3_row10_col5\" class=\"data row10 col5\" >30.000000</td>\n",
       "      <td id=\"T_343d3_row10_col6\" class=\"data row10 col6\" >White</td>\n",
       "      <td id=\"T_343d3_row10_col7\" class=\"data row10 col7\" >Home</td>\n",
       "      <td id=\"T_343d3_row10_col8\" class=\"data row10 col8\" >Some college</td>\n",
       "    </tr>\n",
       "  </tbody>\n",
       "</table>\n"
      ],
      "text/plain": [
       "<pandas.io.formats.style.Styler at 0x16a9e1e30d0>"
      ]
     },
     "execution_count": 4,
     "metadata": {},
     "output_type": "execute_result"
    }
   ],
   "source": [
    "df.loc[:10].style.background_gradient(cmap='Blues')"
   ]
  },
  {
   "cell_type": "code",
   "execution_count": null,
   "id": "1dc0fd8d-d981-43c6-bb3a-14847c5946ff",
   "metadata": {},
   "outputs": [],
   "source": []
  }
 ],
 "metadata": {
  "kernelspec": {
   "display_name": "payan_name",
   "language": "python",
   "name": "payan_name"
  },
  "language_info": {
   "codemirror_mode": {
    "name": "ipython",
    "version": 3
   },
   "file_extension": ".py",
   "mimetype": "text/x-python",
   "name": "python",
   "nbconvert_exporter": "python",
   "pygments_lexer": "ipython3",
   "version": "3.11.5"
  }
 },
 "nbformat": 4,
 "nbformat_minor": 5
}
